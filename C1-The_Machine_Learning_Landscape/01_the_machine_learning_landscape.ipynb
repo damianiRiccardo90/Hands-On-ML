{
  "nbformat": 4,
  "nbformat_minor": 0,
  "metadata": {
    "kernelspec": {
      "display_name": "Python 3",
      "language": "python",
      "name": "python3"
    },
    "language_info": {
      "codemirror_mode": {
        "name": "ipython",
        "version": 3
      },
      "file_extension": ".py",
      "mimetype": "text/x-python",
      "name": "python",
      "nbconvert_exporter": "python",
      "pygments_lexer": "ipython3",
      "version": "3.7.6"
    },
    "nav_menu": {},
    "toc": {
      "navigate_menu": true,
      "number_sections": true,
      "sideBar": true,
      "threshold": 6,
      "toc_cell": false,
      "toc_section_display": "block",
      "toc_window_display": true
    },
    "toc_position": {
      "height": "616px",
      "left": "0px",
      "right": "20px",
      "top": "106px",
      "width": "213px"
    },
    "colab": {
      "name": "01_the_machine_learning_landscape.ipynb",
      "provenance": [],
      "include_colab_link": true
    }
  },
  "cells": [
    {
      "cell_type": "markdown",
      "metadata": {
        "id": "view-in-github",
        "colab_type": "text"
      },
      "source": [
        "<a href=\"https://colab.research.google.com/github/damianiRiccardo90/Hands-On-ML/blob/master/C1-The_Machine_Learning_Landscape/01_the_machine_learning_landscape.ipynb\" target=\"_parent\"><img src=\"https://colab.research.google.com/assets/colab-badge.svg\" alt=\"Open In Colab\"/></a>"
      ]
    },
    {
      "cell_type": "markdown",
      "metadata": {
        "id": "cZKDzK-iVAG8"
      },
      "source": [
        "**Chapter 1 – The Machine Learning landscape**\r\n",
        "\r\n",
        "Training and running a linear model using Scikit-Learn."
      ]
    },
    {
      "cell_type": "code",
      "metadata": {
        "id": "u--ExweRYLzX"
      },
      "source": [
        "# Clone repository, necessary for importing modules to Colab\r\n",
        "import os\r\n",
        "from subprocess import getoutput\r\n",
        "getoutput(\"git clone -l -s https://github.com/damianiRiccardo90/Hands-On-ML Hands-On-ML\")\r\n",
        "os.chdir(\"Hands-On-ML/C1-The_Machine_Learning_Landscape/\")"
      ],
      "execution_count": null,
      "outputs": []
    },
    {
      "cell_type": "code",
      "metadata": {
        "id": "JI0OJBO1Yddl"
      },
      "source": [
        "import matplotlib.pyplot as plt\r\n",
        "import numpy as np\r\n",
        "import pandas as pd\r\n",
        "import sklearn.linear_model\r\n",
        "\r\n",
        "\r\n",
        "# Loading the data\r\n"
      ],
      "execution_count": null,
      "outputs": []
    }
  ]
}